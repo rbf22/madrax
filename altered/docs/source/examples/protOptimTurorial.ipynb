{
 "cells": [
  {
   "cell_type": "markdown",
   "id": "524fc3de",
   "metadata": {
    "pycharm": {
     "name": "#%%\n"
    }
   },
   "source": [
    "# Optimizing a protein"
   ]
  },
  {
   "cell_type": "markdown",
   "id": "b95ac151",
   "metadata": {
    "pycharm": {
     "name": "#%% md\n"
    }
   },
   "source": [
    "In this tutorial we will explain how to perform a structure optimization using the autograd function of pytorch in combination with MadraX."
   ]
  },
  {
   "cell_type": "markdown",
   "id": "b7fd2096",
   "metadata": {
    "pycharm": {
     "name": "#%% md\n"
    }
   },
   "source": [
    "Let's start again with all the imports. This time we are also gonna import the method to run protein optimization out of the box:"
   ]
  },
  {
   "cell_type": "code",
   "execution_count": 1,
   "id": "027d4526",
   "metadata": {
    "pycharm": {
     "name": "#%%\n"
    }
   },
   "outputs": [],
   "source": [
    "from madrax.ForceField import ForceField # the main MadraX module\n",
    "from madrax import utils,dataStructures # the MadraX utility module\n",
    "import time,os,urllib\n",
    "from madrax.mutate.StructureOptimizer import optimize # this is where the magic of this tutorial come from"
   ]
  },
  {
   "cell_type": "markdown",
   "id": "a32ed5b5",
   "metadata": {
    "pycharm": {
     "name": "#%% md\n"
    }
   },
   "source": [
    "and then let's download an example structure to optimize. Since optimization is computationally intensive we are gonna use a single structure, but everything works with as many proteins you want"
   ]
  },
  {
   "cell_type": "code",
   "execution_count": 2,
   "id": "2c816bc2",
   "metadata": {
    "pycharm": {
     "name": "#%%\n"
    }
   },
   "outputs": [
    {
     "data": {
      "text/plain": [
       "('exampleStructures/5bmz.pdb', <http.client.HTTPMessage at 0x7f4504157700>)"
      ]
     },
     "execution_count": 2,
     "metadata": {},
     "output_type": "execute_result"
    }
   ],
   "source": [
    "if not os.path.exists(\"exampleStructures\"):\n",
    "    os.mkdir('exampleStructures')\n",
    "    \n",
    "urllib.request.urlretrieve('http://files.rcsb.org/download/5BMZ.pdb', 'exampleStructures/5bmz.pdb')"
   ]
  },
  {
   "cell_type": "markdown",
   "id": "6ada4885",
   "metadata": {
    "pycharm": {
     "name": "#%%\n"
    }
   },
   "source": [
    "as in the quickstart tutorial, we need to parse and precalculate the information tensors and generate the MadraX main object (see quickstart for a step to step guide)"
   ]
  },
  {
   "cell_type": "code",
   "execution_count": 3,
   "id": "1b613759",
   "metadata": {
    "pycharm": {
     "name": "#%%\n"
    }
   },
   "outputs": [],
   "source": [
    "device = \"cpu\"\n",
    "coords, atnames, pdbNames = utils.parsePDB(\"exampleStructures/\") # get coordinates and atom names\n",
    "\n",
    "info_tensors = dataStructures.create_info_tensors(atnames,device=device)\n",
    "forceField_Obj = ForceField(device=device)"
   ]
  },
  {
   "cell_type": "markdown",
   "id": "57089bf5",
   "metadata": {
    "pycharm": {
     "name": "#%% md\n"
    }
   },
   "source": [
    "Let's check the initial energy of the protein conformation just running MadraX without optimization"
   ]
  },
  {
   "cell_type": "code",
   "execution_count": 4,
   "id": "7f63e253",
   "metadata": {
    "pycharm": {
     "name": "#%%\n"
    }
   },
   "outputs": [
    {
     "name": "stdout",
     "output_type": "stream",
     "text": [
      "tensor(-198.3297, grad_fn=<SumBackward0>)\n"
     ]
    }
   ],
   "source": [
    "initial_energy = forceField_Obj(coords.to(device), info_tensors)\n",
    "print(initial_energy.sum())"
   ]
  },
  {
   "cell_type": "markdown",
   "id": "0293bec2",
   "metadata": {
    "pycharm": {
     "name": "#%% md\n"
    }
   },
   "source": [
    "And now the funny part. We use the optimize function to run a deltaG minimization. \n",
    "\n",
    "You just need to set the learning rate of the optimization, that defines how much you move your atom at every step and the number of iteractions (epochs).\n",
    "\n",
    "CAREFUL: if you use a learning rate too low you will have basically no movement, if it is too high you will have no convergence\n",
    "\n",
    "let's also put verbose to True because we love printed text"
   ]
  },
  {
   "cell_type": "code",
   "execution_count": 5,
   "id": "09fbdee2",
   "metadata": {
    "pycharm": {
     "name": "#%%\n"
    },
    "scrolled": true
   },
   "outputs": [
    {
     "name": "stdout",
     "output_type": "stream",
     "text": [
      " \t optimizing epoch: 0 loss: -198.3297 time  6.8825\n",
      " \t optimizing epoch: 1 loss: -211.2425 time  6.8174\n",
      " \t optimizing epoch: 2 loss: -224.4531 time  6.8256\n",
      " \t optimizing epoch: 3 loss: -235.3043 time  6.8958\n",
      " \t optimizing epoch: 4 loss: -243.8654 time  6.3523\n"
     ]
    }
   ],
   "source": [
    "energy, optimizedCoord = optimize(forceField_Obj, coords.to(device), info_tensors, epochs=5, verbose=True, learning_rate=0.001, backbone_rotation=False)\n"
   ]
  },
  {
   "cell_type": "markdown",
   "id": "f3e1c225",
   "metadata": {
    "pycharm": {
     "name": "#%% md\n"
    }
   },
   "source": [
    "And it is done! \n",
    "\n",
    "You can also change the device to \"cuda\" and check the difference in speed. I get a 3.5x speed boost on GPU (~2s per epoch). \n",
    "\n",
    "We have the energy of the protein and the coordinates of the relaxted structure.\n",
    "Let's see what we got:"
   ]
  },
  {
   "cell_type": "code",
   "execution_count": 6,
   "id": "69efbe4e",
   "metadata": {
    "pycharm": {
     "name": "#%%\n"
    }
   },
   "outputs": [
    {
     "name": "stdout",
     "output_type": "stream",
     "text": [
      "torch.Size([2, 4, 151, 1, 11]) tensor(-243.8654, grad_fn=<SumBackward0>)\n"
     ]
    }
   ],
   "source": [
    "print(energy.shape,energy.sum())"
   ]
  },
  {
   "cell_type": "markdown",
   "id": "d52185bf",
   "metadata": {
    "pycharm": {
     "name": "#%% md\n"
    }
   },
   "source": [
    "You can see that the optimizer decreases the energy of the complex as expected:"
   ]
  },
  {
   "cell_type": "code",
   "execution_count": 7,
   "id": "e3ba8482",
   "metadata": {
    "pycharm": {
     "name": "#%%\n"
    }
   },
   "outputs": [
    {
     "name": "stdout",
     "output_type": "stream",
     "text": [
      "initial energy: -198.32965087890625 Optimized Energy -243.8654022216797\n"
     ]
    }
   ],
   "source": [
    "print(\"initial energy:\",float(initial_energy.sum().cpu().data), \"Optimized Energy\", float(energy.sum().cpu().data) )"
   ]
  },
  {
   "cell_type": "markdown",
   "id": "7ab9879a",
   "metadata": {
    "pycharm": {
     "name": "#%% md\n"
    }
   },
   "source": [
    "Now you can use the writePDB function to write down your new structure and analyze it with a structure viewer"
   ]
  },
  {
   "cell_type": "code",
   "execution_count": 8,
   "id": "0106f82e",
   "metadata": {
    "pycharm": {
     "name": "#%%\n"
    }
   },
   "outputs": [],
   "source": [
    "utils.writepdb(optimizedCoord.cpu().data, atnames,output_folder=\"example_pdb_output\")"
   ]
  }
 ],
 "metadata": {
  "kernelspec": {
   "display_name": "Python 3 (ipykernel)",
   "language": "python",
   "name": "python3"
  },
  "language_info": {
   "codemirror_mode": {
    "name": "ipython",
    "version": 3
   },
   "file_extension": ".py",
   "mimetype": "text/x-python",
   "name": "python",
   "nbconvert_exporter": "python",
   "pygments_lexer": "ipython3",
   "version": "3.8.13"
  }
 },
 "nbformat": 4,
 "nbformat_minor": 5
}
