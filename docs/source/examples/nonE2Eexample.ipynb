{
 "cells": [
  {
   "cell_type": "markdown",
   "id": "fbf68ae7",
   "metadata": {
    "pycharm": {
     "name": "#%%\n"
    }
   },
   "source": [
    "# Building a Non End-to-End network with Madrax"
   ]
  },
  {
   "cell_type": "markdown",
   "id": "b95ac151",
   "metadata": {
    "pycharm": {
     "name": "#%% md\n"
    }
   },
   "source": [
    "In this tutorial we will explain how to build a classical non End-to-End neural network with MadraX. \n",
    "\n",
    "With non End-to-End we mean an application in which MadraX is calculated at the very beginning of the training loop and it is not included in the back-propagation."
   ]
  },
  {
   "cell_type": "markdown",
   "id": "b7fd2096",
   "metadata": {
    "pycharm": {
     "name": "#%% md\n"
    }
   },
   "source": [
    "Let's start again with all the imports"
   ]
  },
  {
   "cell_type": "code",
   "execution_count": 1,
   "id": "027d4526",
   "metadata": {
    "pycharm": {
     "name": "#%%\n"
    }
   },
   "outputs": [],
   "source": [
    "import warnings\n",
    "warnings.filterwarnings('ignore')\n",
    "from madrax.ForceField import ForceField # the main MadraX module\n",
    "from madrax import utils,dataStructures # the MadraX utility module\n",
    "import time,os,urllib,torch\n"
   ]
  },
  {
   "cell_type": "markdown",
   "id": "a32ed5b5",
   "metadata": {
    "pycharm": {
     "name": "#%% md\n"
    }
   },
   "source": [
    "and then let's download some example structures to use as input. "
   ]
  },
  {
   "cell_type": "code",
   "execution_count": 2,
   "id": "2c816bc2",
   "metadata": {
    "pycharm": {
     "name": "#%%\n"
    }
   },
   "outputs": [
    {
     "data": {
      "text/plain": [
       "('exampleStructuresNet/1WQO.pdb', <http.client.HTTPMessage at 0x7f696bc5d970>)"
      ]
     },
     "execution_count": 2,
     "metadata": {},
     "output_type": "execute_result"
    }
   ],
   "source": [
    "if not os.path.exists(\"exampleStructuresNet\"):\n",
    "    os.mkdir('exampleStructuresNet')\n",
    "    \n",
    "urllib.request.urlretrieve('http://files.rcsb.org/download/1LYI.pdb', 'exampleStructuresNet/1LYI.pdb')\n",
    "urllib.request.urlretrieve('http://files.rcsb.org/download/1QTC.pdb', 'exampleStructuresNet/1QTC.pdb')\n",
    "urllib.request.urlretrieve('http://files.rcsb.org/download/1WQO.pdb', 'exampleStructuresNet/1WQO.pdb')"
   ]
  },
  {
   "cell_type": "markdown",
   "id": "6ada4885",
   "metadata": {
    "pycharm": {
     "name": "#%%\n"
    }
   },
   "source": [
    "as in the quickstart tutorial, we need to parse and precalculate the information tensors and generate the MadraX main object (see quickstart for a step to step guide)"
   ]
  },
  {
   "cell_type": "code",
   "execution_count": 3,
   "id": "1b613759",
   "metadata": {
    "pycharm": {
     "name": "#%%\n"
    }
   },
   "outputs": [],
   "source": [
    "device = \"cpu\"\n",
    "coords, atnames, pdbNames = utils.parsePDB(\"exampleStructuresNet/\") # get coordinates and atom names\n",
    "\n",
    "info_tensors = dataStructures.create_info_tensors(atnames,device=device)\n",
    "forceField_Obj = ForceField(device=device)"
   ]
  },
  {
   "cell_type": "markdown",
   "id": "57089bf5",
   "metadata": {
    "pycharm": {
     "name": "#%% md\n"
    }
   },
   "source": [
    "Let's calculate the energy of the proteins just running MadraX"
   ]
  },
  {
   "cell_type": "code",
   "execution_count": 4,
   "id": "7f63e253",
   "metadata": {
    "pycharm": {
     "name": "#%%\n"
    }
   },
   "outputs": [
    {
     "name": "stdout",
     "output_type": "stream",
     "text": [
      "torch.Size([3, 1, 163, 1, 11])\n"
     ]
    }
   ],
   "source": [
    "energies = forceField_Obj(coords.to(device), info_tensors).data # we don't need the gradient\n",
    "\n",
    "print(energies.shape)\n"
   ]
  },
  {
   "cell_type": "markdown",
   "id": "0293bec2",
   "metadata": {
    "pycharm": {
     "name": "#%% md\n"
    }
   },
   "source": [
    "We have 3 single chain proteins, with a maximum of 163 residues.\n",
    "\n",
    "We now want to build a neural network that gives a per-residue prediction. First of all, lets get the sequence of the input structures, so that we can get the length of each protein."
   ]
  },
  {
   "cell_type": "code",
   "execution_count": 5,
   "id": "edc64051",
   "metadata": {},
   "outputs": [],
   "source": [
    "seqs = utils.atomName2Seq(atnames)\n",
    "lens = [len(i) for i in seqs]"
   ]
  },
  {
   "cell_type": "markdown",
   "id": "4749f144",
   "metadata": {},
   "source": [
    "Let's generate some random binary labels. They represent the task we want to predict. Every residue is going to be associated with a label (0 or 1). The padding will be assigned with a -1\n"
   ]
  },
  {
   "cell_type": "code",
   "execution_count": 6,
   "id": "09fbdee2",
   "metadata": {
    "pycharm": {
     "name": "#%%\n"
    },
    "scrolled": true
   },
   "outputs": [],
   "source": [
    "y=[]\n",
    "for i in lens:\n",
    "    y += [torch.randint(high=2,low=0,size = [i],device=device).float()]\n",
    "\n",
    "paddedY = torch.nn.utils.rnn.pad_sequence(y, batch_first=True, padding_value=-1)"
   ]
  },
  {
   "cell_type": "markdown",
   "id": "f3e1c225",
   "metadata": {
    "pycharm": {
     "name": "#%% md\n"
    }
   },
   "source": [
    "We now need a very simple neural network which can handle sequences of different length. \n",
    "\n",
    "Let's make a standard LSTM followed by a Feed Forward net. \n",
    "\n",
    "Remember this is just an example and more complex architecture are going to be required to address most of the real world structural problems."
   ]
  },
  {
   "cell_type": "code",
   "execution_count": 7,
   "id": "69efbe4e",
   "metadata": {
    "pycharm": {
     "name": "#%%\n"
    }
   },
   "outputs": [],
   "source": [
    "class SimpleNN(torch.nn.Module): # very simple recurrent neural net\n",
    "\n",
    "    def __init__(self,hidden_sizeRNN=50,num_layersRNN=3,hidden_feedForward = 50,device=\"cpu\"):\n",
    "\n",
    "        super(SimpleNN, self).__init__()\n",
    "\n",
    "        self.recurrent = torch.nn.LSTM(11, hidden_sizeRNN, num_layersRNN, bidirectional=True,device=device,batch_first=True)\n",
    "\n",
    "        self.feedForwardStep = torch.nn.Sequential(\n",
    "                                                torch.nn.Linear(hidden_sizeRNN*2, hidden_feedForward),\n",
    "                                                torch.nn.Tanh(),\n",
    "                                                torch.nn.Linear(hidden_feedForward, hidden_feedForward),\n",
    "                                                torch.nn.Tanh(),\n",
    "                                                torch.nn.Linear(hidden_feedForward, 1),\n",
    "                                                torch.nn.Sigmoid()\n",
    "                                                ).to(device)\n",
    "\n",
    "    def forward(self,energies):\n",
    "        input_RNN = energies[:,0,:,0,:]# let's assume, for simplicity, we only have single chain proteins\n",
    "        output_RNN,_ = self.recurrent(input_RNN) # application of the recurrent step\n",
    "        out = self.feedForwardStep(output_RNN) # application of the feed forward step\n",
    "        return out.squeeze(-1)"
   ]
  },
  {
   "cell_type": "markdown",
   "id": "d52185bf",
   "metadata": {
    "pycharm": {
     "name": "#%% md\n"
    }
   },
   "source": [
    "Let's create the network objects that are required for the training (network object, optimizer and loss function)"
   ]
  },
  {
   "cell_type": "code",
   "execution_count": 8,
   "id": "51d20808",
   "metadata": {},
   "outputs": [],
   "source": [
    "model = SimpleNN(device=device)\n",
    "optimizer = torch.optim.Adam(model.parameters(), lr=0.0001)\n",
    "loss_function = torch.nn.BCELoss()"
   ]
  },
  {
   "cell_type": "markdown",
   "id": "0162decf",
   "metadata": {},
   "source": [
    "And now the training loop."
   ]
  },
  {
   "cell_type": "code",
   "execution_count": 9,
   "id": "939c8489",
   "metadata": {},
   "outputs": [
    {
     "name": "stdout",
     "output_type": "stream",
     "text": [
      "epoch 0 loss: 0.6974 time: 0.195\n",
      "epoch 50 loss: 0.6917 time: 11.268\n",
      "epoch 100 loss: 0.6913 time: 11.121\n",
      "epoch 150 loss: 0.69 time: 12.471\n",
      "epoch 200 loss: 0.6657 time: 14.519\n",
      "epoch 250 loss: 0.6402 time: 16.358\n",
      "epoch 300 loss: 0.6059 time: 16.181\n",
      "epoch 350 loss: 0.574 time: 16.087\n",
      "epoch 400 loss: 0.5486 time: 11.542\n",
      "epoch 450 loss: 0.5214 time: 12.357\n",
      "epoch 500 loss: 0.4945 time: 14.276\n"
     ]
    }
   ],
   "source": [
    "old_time = time.time()\n",
    "for epoch in range(501):\n",
    "    \n",
    "    prediction = model(energies)\n",
    "\n",
    "    padding_mask = paddedY>=0 #we remove the padding from the loss evaluation\n",
    "    loss = loss_function(prediction[padding_mask],paddedY[padding_mask])\n",
    "    loss.backward()\n",
    "    \n",
    "    optimizer.step()\n",
    "    optimizer.zero_grad()\n",
    "    \n",
    "    if epoch%50==0:\n",
    "        print(\"epoch\",epoch,\"loss:\",round(float(loss.sum().cpu().data),4),\"time:\",round(time.time()-old_time,3))\n",
    "        old_time = time.time()"
   ]
  },
  {
   "cell_type": "markdown",
   "id": "84297354",
   "metadata": {},
   "source": [
    "After the training, we can use the model to make predictions and calculate the performances. In order to plot a ROC curve we will use sklearn and matplotlib"
   ]
  },
  {
   "cell_type": "code",
   "execution_count": 10,
   "id": "13d95f89",
   "metadata": {},
   "outputs": [
    {
     "data": {
      "image/png": "[encoded data removed]",
      "text/plain": [
       "<Figure size 640x480 with 1 Axes>"
      ]
     },
     "metadata": {},
     "output_type": "display_data"
    }
   ],
   "source": [
    "predicted_labels = model(energies)\n",
    "\n",
    "from sklearn import metrics\n",
    "import matplotlib.pyplot as plt\n",
    "\n",
    "fpr, tpr, _ = metrics.roc_curve(paddedY[padding_mask].cpu().data.tolist(), predicted_labels[padding_mask].cpu().data.tolist()) # false and true positive rates\n",
    "\n",
    "plt.plot(fpr,tpr)\n",
    "plt.ylabel('True Positive Rate')\n",
    "plt.xlabel('False Positive Rate')\n",
    "plt.show()"
   ]
  },
  {
   "cell_type": "markdown",
   "id": "5a682fe4",
   "metadata": {},
   "source": [
    "Now, before starting your personal dance of victory for the successful training of the network, remember you will need a proper cross-validation in real case applications!"
   ]
  }
 ],
 "metadata": {
  "kernelspec": {
   "display_name": "Python 3 (ipykernel)",
   "language": "python",
   "name": "python3"
  },
  "language_info": {
   "codemirror_mode": {
    "name": "ipython",
    "version": 3
   },
   "file_extension": ".py",
   "mimetype": "text/x-python",
   "name": "python",
   "nbconvert_exporter": "python",
   "pygments_lexer": "ipython3",
   "version": "3.8.13"
  }
 },
 "nbformat": 4,
 "nbformat_minor": 5
}
