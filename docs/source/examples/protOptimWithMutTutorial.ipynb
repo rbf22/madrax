{
 "cells": [
  {
   "cell_type": "markdown",
   "id": "524fc3de",
   "metadata": {
    "pycharm": {
     "name": "#%%\n"
    }
   },
   "source": [
    "# Implementing mutations in a protein"
   ]
  },
  {
   "cell_type": "markdown",
   "id": "b95ac151",
   "metadata": {
    "pycharm": {
     "name": "#%% md\n"
    }
   },
   "source": [
    "In this tutorial we will explain how to perform a structure optimization using the autograd function of pytorch in combination with MadraX."
   ]
  },
  {
   "cell_type": "markdown",
   "id": "b7fd2096",
   "metadata": {
    "pycharm": {
     "name": "#%% md\n"
    }
   },
   "source": [
    "Let's start again with all the imports. This time we are also gonna import the method to run protein optimization out of the box:"
   ]
  },
  {
   "cell_type": "code",
   "execution_count": 1,
   "id": "027d4526",
   "metadata": {
    "pycharm": {
     "name": "#%%\n"
    }
   },
   "outputs": [],
   "source": [
    "import warnings\n",
    "warnings.filterwarnings('ignore')\n",
    "from madrax.ForceField import ForceField # the main MadraX module\n",
    "from madrax import utils,dataStructures # the MadraX utility module\n",
    "import time,os,urllib\n",
    "from madrax.mutate.StructureOptimizer import optimize\n",
    "from madrax.mutate.mutatingEngine import mutate\n"
   ]
  },
  {
   "cell_type": "markdown",
   "id": "a32ed5b5",
   "metadata": {
    "pycharm": {
     "name": "#%% md\n"
    }
   },
   "source": [
    "and then let's download an example structure to optimize. Since optimization is computationally intensive we are gonna use a single structure, but everything works with as many proteins you want"
   ]
  },
  {
   "cell_type": "code",
   "execution_count": 2,
   "id": "2c816bc2",
   "metadata": {
    "pycharm": {
     "name": "#%%\n"
    }
   },
   "outputs": [
    {
     "data": {
      "text/plain": [
       "('exampleStructures/1bni.pdb', <http.client.HTTPMessage at 0x7f2c50c28c40>)"
      ]
     },
     "execution_count": 2,
     "metadata": {},
     "output_type": "execute_result"
    }
   ],
   "source": [
    "if not os.path.exists(\"exampleStructures\"):\n",
    "    os.mkdir('exampleStructures')\n",
    "    \n",
    "urllib.request.urlretrieve('http://files.rcsb.org/download/5BMZ.pdb', 'exampleStructures/5bmz.pdb')\n",
    "urllib.request.urlretrieve('http://files.rcsb.org/download/1bni.pdb', 'exampleStructures/1bni.pdb')"
   ]
  },
  {
   "cell_type": "markdown",
   "id": "6ada4885",
   "metadata": {
    "pycharm": {
     "name": "#%%\n"
    }
   },
   "source": [
    "as in the quickstart tutorial, we need to parse and precalculate the information tensors and generate the MadraX main object (see quickstart for a step to step guide)"
   ]
  },
  {
   "cell_type": "code",
   "execution_count": 3,
   "id": "1b613759",
   "metadata": {
    "pycharm": {
     "name": "#%%\n"
    }
   },
   "outputs": [],
   "source": [
    "device = \"cpu\"\n",
    "coords, atnames, pdbNames = utils.parsePDB(\"exampleStructures/\") # get coordinates and atom names\n",
    "\n",
    "info_tensors = dataStructures.create_info_tensors(atnames,device=device)\n",
    "forceField_Obj = ForceField(device=device)"
   ]
  },
  {
   "cell_type": "markdown",
   "id": "57089bf5",
   "metadata": {
    "pycharm": {
     "name": "#%% md\n"
    }
   },
   "source": [
    "First of all lets take a look at the proteins we have. t"
   ]
  },
  {
   "cell_type": "code",
   "execution_count": 4,
   "id": "56672706",
   "metadata": {},
   "outputs": [
    {
     "name": "stdout",
     "output_type": "stream",
     "text": [
      "['1bni', '5bmz']\n"
     ]
    }
   ],
   "source": [
    "print(pdbNames)"
   ]
  },
  {
   "cell_type": "markdown",
   "id": "a8c32c22",
   "metadata": {},
   "source": [
    "Let's now define a couple of mutations we want to implement in the structures we downloaded"
   ]
  },
  {
   "cell_type": "code",
   "execution_count": 5,
   "id": "86e4fcd2",
   "metadata": {},
   "outputs": [],
   "source": [
    "mutationList = [\n",
    "                    [[\"10_A_GLY\",\"10_B_GLY\"],[\"54_A_ASN\"]],\n",
    "\n",
    "                    [[\"12_A_ALA\",\"77_B_ARG\"]]\n",
    "               ]"
   ]
  },
  {
   "cell_type": "markdown",
   "id": "2247e8c5",
   "metadata": {},
   "source": [
    "this means we will generate 3 mutants:\n",
    "    the first protein with a GLY in position 10 of chain A and a GLY in position 10 of chain B\n",
    "    the first protein with a ASN in position 54 of chain A\n",
    "    the second protein with a ALA in position 8 of chain A and a ARG in position 77 of chain B\n",
    "    \n",
    "Residue number and chain is the same of the one of the PDB.\n",
    "\n",
    "Now we can implement the mutations and get new coordinates and atom names"
   ]
  },
  {
   "cell_type": "code",
   "execution_count": 6,
   "id": "c418ba80",
   "metadata": {},
   "outputs": [],
   "source": [
    "newCoords,newatnames = mutate(coords,atnames,mutationList)"
   ]
  },
  {
   "cell_type": "markdown",
   "id": "1618f571",
   "metadata": {},
   "source": [
    "lets recalculate the info_tensors with the mutant atom names"
   ]
  },
  {
   "cell_type": "code",
   "execution_count": 7,
   "id": "ab6c5a83",
   "metadata": {},
   "outputs": [],
   "source": [
    "newInfo_tensors = dataStructures.create_info_tensors(newatnames,device=device)"
   ]
  },
  {
   "cell_type": "markdown",
   "id": "cb52d174",
   "metadata": {},
   "source": [
    "and now we can calculate the energy with MadraX as usual"
   ]
  },
  {
   "cell_type": "code",
   "execution_count": 8,
   "id": "7f63e253",
   "metadata": {
    "pycharm": {
     "name": "#%%\n"
    }
   },
   "outputs": [
    {
     "name": "stdout",
     "output_type": "stream",
     "text": [
      "torch.Size([2, 4, 151, 3, 11])\n"
     ]
    }
   ],
   "source": [
    "energy = forceField_Obj(newCoords.to(device), newInfo_tensors)\n",
    "print(energy.shape)"
   ]
  },
  {
   "cell_type": "markdown",
   "id": "9d2cb4e8",
   "metadata": {},
   "source": [
    "you can see now that the dimension 3 of the output of madrax now is 3.\n",
    "Position 0 is always gonna be the wild type, while the others are gonna be the mutants.\n",
    "\n",
    "energy[0:,:,1] represents the energy of the first mutant of the first protein (\"10_A_GLY\",\"10_B_GLY\")\n",
    "energy[0:,:,2] represents the energy of the second mutant of the first protein (\"54_A_ASN\")\n",
    "energy[1:,:,1] represents the energy of the first mutant of the second protein (\"12_A_ALA\",\"77_B_ARG\")\n",
    "\n",
    "energy[0:,:,0] represents the energy of first protein the wlid type\n",
    "energy[1:,:,0] represents the energy of second protein the wlid type"
   ]
  },
  {
   "cell_type": "markdown",
   "id": "0293bec2",
   "metadata": {
    "pycharm": {
     "name": "#%% md\n"
    }
   },
   "source": [
    "and we can use relax the structure as described in the \"optimize a protein\" tutorial"
   ]
  },
  {
   "cell_type": "code",
   "execution_count": 9,
   "id": "09fbdee2",
   "metadata": {
    "pycharm": {
     "name": "#%%\n"
    },
    "scrolled": true
   },
   "outputs": [
    {
     "name": "stdout",
     "output_type": "stream",
     "text": [
      " \t optimizing epoch: 0 loss: -1514.8442 time  4.2348\n",
      " \t optimizing epoch: 1 loss: -1591.6768 time  4.463\n",
      " \t optimizing epoch: 2 loss: -1662.3555 time  4.4108\n",
      " \t optimizing epoch: 3 loss: -1678.0632 time  4.5837\n",
      " \t optimizing epoch: 4 loss: -1726.4849 time  4.6056\n"
     ]
    }
   ],
   "source": [
    "energy, optimizedCoord = optimize(forceField_Obj, newCoords.to(device), newInfo_tensors, epochs=5, verbose=True, learning_rate=0.001, backbone_rotation=False)\n"
   ]
  },
  {
   "cell_type": "markdown",
   "id": "f3e1c225",
   "metadata": {
    "pycharm": {
     "name": "#%% md\n"
    }
   },
   "source": [
    "We can also convert the mutant's coordinates to PDBs using the utils.writePDB function"
   ]
  },
  {
   "cell_type": "code",
   "execution_count": 10,
   "id": "33cd5c63",
   "metadata": {},
   "outputs": [],
   "source": [
    "utils.writepdb(optimizedCoord.cpu().data, newatnames,output_folder=\"example_pdb_output/\", pdb_names=pdbNames)"
   ]
  },
  {
   "cell_type": "markdown",
   "id": "03f738b4",
   "metadata": {},
   "source": [
    "and all mutants will be written into pdb files"
   ]
  }
 ],
 "metadata": {
  "kernelspec": {
   "display_name": "Python 3 (ipykernel)",
   "language": "python",
   "name": "python3"
  },
  "language_info": {
   "codemirror_mode": {
    "name": "ipython",
    "version": 3
   },
   "file_extension": ".py",
   "mimetype": "text/x-python",
   "name": "python",
   "nbconvert_exporter": "python",
   "pygments_lexer": "ipython3",
   "version": "3.8.13"
  }
 },
 "nbformat": 4,
 "nbformat_minor": 5
}
